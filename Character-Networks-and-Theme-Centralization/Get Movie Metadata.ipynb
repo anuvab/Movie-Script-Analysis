{
 "cells": [
  {
   "cell_type": "code",
   "execution_count": null,
   "metadata": {
    "collapsed": true
   },
   "outputs": [],
   "source": [
    "import os, json, imdb, time"
   ]
  },
  {
   "cell_type": "code",
   "execution_count": null,
   "metadata": {
    "collapsed": true
   },
   "outputs": [],
   "source": [
    "json_path = '/home/vishi/imsdb/json'\n",
    "#json_path = '/home/vishi/NotebooksNLP/database_new_v1'\n",
    "movie_names = [k.split('.')[0] for k in os.listdir(json_path)]"
   ]
  },
  {
   "cell_type": "code",
   "execution_count": null,
   "metadata": {
    "collapsed": false,
    "scrolled": true
   },
   "outputs": [],
   "source": [
    "for i,n in enumerate(movie_names):\n",
    "    temp = n.split(',')[-1]\n",
    "    if temp == ' The' or temp == ' A':\n",
    "        movie_names[i] = temp[1:] + ' ' + ''.join(n.split(',')[:-1])           \n",
    "#for n in movie_names : print n"
   ]
  },
  {
   "cell_type": "code",
   "execution_count": null,
   "metadata": {
    "collapsed": false
   },
   "outputs": [],
   "source": [
    "name = \"The Descendants\"\n",
    "print name\n",
    "mv = ia.search_movie(name)[0] #search result\n",
    "print mv\n",
    "ia.update(mv)\n",
    "print mv['rating']\n",
    "print mv['genres']"
   ]
  },
  {
   "cell_type": "code",
   "execution_count": null,
   "metadata": {
    "collapsed": true
   },
   "outputs": [],
   "source": [
    "ia = imdb.IMDb()"
   ]
  },
  {
   "cell_type": "code",
   "execution_count": null,
   "metadata": {
    "collapsed": false,
    "scrolled": true
   },
   "outputs": [],
   "source": [
    "ratings = {}\n",
    "genres = {}\n",
    "\n",
    "errors = []\n",
    "\n",
    "while(len(movie_names) > 0):\n",
    "    #time.sleep(2)\n",
    "    movie_name = movie_names[0]\n",
    "    if movie_name in ratings:\n",
    "        movie_names = movie_names[1:]\n",
    "        continue\n",
    "    try:\n",
    "        movie = ia.search_movie(movie_name)[0]\n",
    "        ia.update(movie)\n",
    "    except Exception as e:\n",
    "        if e[0] == 'list index out of range':\n",
    "            movie_names = movie_names[1:]\n",
    "            print \"MOVIE NOT FOUND\", movie_name\n",
    "            continue\n",
    "        else:\n",
    "            print \"ERROR ENCOUNTERED for\", movie_name, e\n",
    "            time.sleep(5)\n",
    "            continue\n",
    "    print movie, \"done!\"\n",
    "    try:\n",
    "        genres[movie_name] = movie['genres']\n",
    "        ratings[movie_name] = movie['rating']\n",
    "    except Exception as e:\n",
    "        print \"ERROR\", e\n",
    "        errors.append(movie_name)\n",
    "    movie_names = movie_names[1:]"
   ]
  },
  {
   "cell_type": "code",
   "execution_count": null,
   "metadata": {
    "collapsed": true
   },
   "outputs": [],
   "source": [
    "missing_movies = [m for m in movie_names if m not in ratings]\n",
    "missing_movies2 = [m for m in movie_names if m not in genres]\n",
    "#manually get the data for the missing movies\n",
    "#those for which the data is still unobtainable are \n",
    "#stored as 'missing-movies'"
   ]
  },
  {
   "cell_type": "code",
   "execution_count": null,
   "metadata": {
    "collapsed": true
   },
   "outputs": [],
   "source": [
    "movie_data = {}\n",
    "movie_data['ratings'] = ratings\n",
    "movie_data['genres'] = genres\n",
    "movie_data['missing'] = missing_movies"
   ]
  },
  {
   "cell_type": "code",
   "execution_count": null,
   "metadata": {
    "collapsed": true
   },
   "outputs": [],
   "source": [
    "import cPickle as pickle\n",
    "movie_data = [ratings, genres, missing_movies]\n",
    "with open('movie_data.pkl', 'w') as f:\n",
    "    pickle.dump(movie_data, f)"
   ]
  },
  {
   "cell_type": "code",
   "execution_count": 1,
   "metadata": {
    "collapsed": true
   },
   "outputs": [],
   "source": [
    "import cPickle as pickle\n",
    "with open('movie_data.pkl', 'r') as f:\n",
    "    movie_d = pickle.load(f)"
   ]
  },
  {
   "cell_type": "code",
   "execution_count": 2,
   "metadata": {
    "collapsed": false
   },
   "outputs": [
    {
     "data": {
      "text/plain": [
       "['ratings', 'genres', 'missing']"
      ]
     },
     "execution_count": 2,
     "metadata": {},
     "output_type": "execute_result"
    }
   ],
   "source": [
    "movie_d.keys()"
   ]
  },
  {
   "cell_type": "code",
   "execution_count": 3,
   "metadata": {
    "collapsed": false
   },
   "outputs": [
    {
     "data": {
      "text/plain": [
       "[u'Crime', u'Drama']"
      ]
     },
     "execution_count": 3,
     "metadata": {},
     "output_type": "execute_result"
    }
   ],
   "source": [
    "movie_d['genres']['Godfather']"
   ]
  },
  {
   "cell_type": "code",
   "execution_count": 4,
   "metadata": {
    "collapsed": false
   },
   "outputs": [
    {
     "data": {
      "text/plain": [
       "11"
      ]
     },
     "execution_count": 4,
     "metadata": {},
     "output_type": "execute_result"
    }
   ],
   "source": [
    "len(movie_d['missing'])"
   ]
  },
  {
   "cell_type": "code",
   "execution_count": 5,
   "metadata": {
    "collapsed": false,
    "scrolled": true
   },
   "outputs": [
    {
     "name": "stdout",
     "output_type": "stream",
     "text": [
      "{'Funny People': 6.4, 'Road, The': 6.5, 'Starship Troopers': 7.2, 'Yes Man': 6.8, 'English Patient, The': 7.4, 'Gremlins': 7.2, 'Lion King, The': 8.5, 'Crow, The': 7.6, 'Romeo & Julie': 6.8, 'Moon': 7.9, \"Smokin' Aces\": 6.7, 'Human Nature': 6.4, 'Cradle 2 the Grave': 5.8, 'Manhunter': 7.2, 'Sherlock Holmes': 7.6, 'Mulan': 7.5, 'Harold and Kumar Go to White Castle': 7.1, 'Sideways': 7.5, 'Big White, The': 6.4, \"Cirque du Freak: The Vampire's Assistan\": 5.9, 'Eight Legged Freaks': 5.4, 'Citizen Kane': 8.4, 'Spanglish': 6.4, 'Newsies': 6.9, 'Wall-E': 8.4, 'Precious': 7.3, 'Rush Hour 2': 6.6, 'Dances with Wolves': 8.0, 'Win Win': 7.2, '1492: Conquest of Paradise': 6.5, 'Twiligh': 5.2, 'Fair Game': 6.8, 'Cold Mountain': 7.2, 'An Education': 7.3, 'Back to the Future': 8.5, 'Erin Brockovich': 7.3, 'Blade Runner': 8.2, 'Hanna': 6.8, 'Hannibal': 8.6, 'Prophecy, The': 6.6, 'Men in Black': 7.3, 'Princess Bride, The': 8.1, 'Ghost Ship': 5.5, 'Matrix, The': 8.7, 'Mighty Morphin Power Rangers: The Movie': 5.1, 'Family Man, The': 6.7, 'Austin Powers - The Spy Who Shagged Me': 6.6, \"Ocean's Eleven\": 7.8, 'Suspect Zero': 5.9, 'Three Kings (Spoils of War)': 7.1, 'Broken Arrow': 6.0, 'Paul': 7.0, 'Angels & Demons': 6.7, 'Mr Brooks': 7.4, 'Up in the Air': 7.4, 'Descendants, The': 7.3, 'Fabulous Baker Boys, The': 6.8, 'Willow': 7.3, 'Wag the Dog': 7.1, 'Get Carter': 5.1, 'Manchurian Candidate, The': 6.6, 'Never Been Kissed': 6.0, 'Watchmen': 7.6, 'Even Cowgirls Get the Blues': 4.3, 'Ringu': 7.3, 'Swingers': 7.4, 'Charade': 8.0, 'Total Recall': 7.5, 'Pokemon: Mewtwo Returns': 6.5, 'Bull Durham': 7.1, 'Officer and a Gentleman, An': 7.0, 'Patriot, The': 7.1, 'Gang Related': 7.6, '8 Mile': 7.0, 'Shadow of the Vampire': 6.9, '500 Days of Summer': 7.7, 'True Romance': 8.0, 'American Psycho': 7.6, 'Grosse Point Blank': 7.4, 'Blue Valentine': 7.4, 'Marty': 7.7, 'Adjustment Bureau, The': 7.1, 'Big Blue, The': 7.6, 'Made': 6.4, 'TMNT': 6.3, 'When Harry Met Sally': 7.6, \"Something's Gotta Give\": 6.7, \"Mini's First Time\": 5.9, '25th Hour': 7.7, 'Trainspotting': 8.2, 'Pet Sematary II': 4.7, 'Anniversary Party, The': 6.4, 'X-Men': 7.4, 'Indiana Jones and the Last Crusade': 8.3, 'Apollo 13': 7.6, 'Sixth Sense, The': 8.1, 'Frozen River': 7.2, 'Tinker Tailor Soldier Spy': 7.1, 'Orphan': 7.0, 'Star Wars: The Phantom Menace': 6.5, 'Changeling': 7.8, 'Adventures of Buckaroo Banzai Across the Eighth Dimension, The': 6.4, 'Bachelor Party, The': 6.3, 'Confessions of a Dangerous Mind': 7.1, 'Island, The': 6.9, 'Apartment, The': 8.3, 'Wizard of Oz, The': 8.1, 'Heavenly Creatures': 7.4, 'Ninotchka': 8.0, 'White Ribbon, The': 7.8, 'Twin Peaks': 8.9, 'Four Feathers': 7.1, 'Thelma & Louise': 7.4, 'Bounty Hunter, The': 4.9, 'Bad Teacher': 5.7, 'Last Chance Harvey': 6.7, 'Magnolia': 8.0, 'Star Wars: Return of the Jedi': 8.4, 'Next Three Days, The': 7.4, 'Roughshod': 6.7, 'Basic': 6.5, 'It Happened One Nigh': 8.2, 'Brothers Bloom, The': 6.9, 'Shipping News, The': 6.8, 'Jurassic Park': 8.1, 'Fighter, The': 7.9, 'Sweet Hereafter, The': 7.7, 'Crash': 7.9, 'Obsessed': 4.9, 'Labyrinth': 7.4, 'Midnight Express': 7.7, 'Legion': 6.6, 'Ghost World': 7.4, 'Machine Gun Preacher': 6.8, 'Rocky Horror Picture Show, The': 7.4, 'Repo Man': 6.9, 'Final Destination': 6.7, 'Gran Torino': 8.2, 'Hellboy 2: The Golden Army': 7.0, 'Punch-Drunk Love': 7.3, 'Blade II': 6.7, 'Alone in the Dark': 2.3, 'Fatal Instinc': 5.7, \"Logan's Run\": 6.8, 'St': 7.3, 'War Horse': 7.2, 'Back to the Future II & III': 8.5, 'Out of Sigh': 7.0, 'Jason X': 4.4, 'Lost in Translation': 7.8, 'Intolerable Cruelty': 6.3, 'Agnes of God': 6.6, 'Hudson Hawk': 5.7, 'Margin Call': 7.1, 'Pacifier, The': 5.5, 'Nines, The': 8.3, 'Cast Away': 7.7, 'Jackie Brown': 7.5, 'Death to Smoochy': 6.4, 'Nick of Time': 6.3, 'Sandlot Kids, The': 7.8, 'Jennifer Eigh': 5.1, 'Reindeer Games': 5.7, 'Shakespeare in Love': 7.2, 'King of Comedy, The': 7.8, 'Tin Men': 6.5, 'Neverending Story, The': 7.4, 'My Week with Marilyn': 7.0, 'Sweet Smell of Success': 8.2, 'Real Genius': 7.0, 'Bruce Almighty': 6.7, 'Ghostbusters': 5.4, 'Leaving Las Vegas': 7.6, 'Ruins, The': 5.9, 'Hospital, The': 6.8, 'Jimmy and Judy': 6.2, 'Ghostbusters 2': 6.5, 'Very Bad Things': 6.3, 'King Kong': 7.2, 'Simone': 6.1, 'Who Framed Roger Rabbit?': 7.7, 'Return of the Apes': 5.7, 'Frances': 7.4, 'Black Dahlia, The': 5.6, 'Talented Mr': 7.3, 'Wall Stree': 8.2, 'Woodsman, The': 7.2, 'From Dusk Till Dawn': 7.0, 'Clerks': 7.8, 'Perfect Creature': 5.5, 'Eternal Sunshine of the Spotless Mind': 8.3, 'Hancock': 6.4, 'Hard Rain': 5.8, 'All About Eve': 8.3, 'Wild Things': 6.5, 'Broken Embraces': 7.2, 'Blade': 7.1, 'Kundun': 7.0, 'Sunshine Cleaning': 6.9, 'After School Special': 4.8, \"You've Got Mail\": 6.5, 'Mrs': 7.9, 'Good Will Hunting': 8.3, 'Tombstone': 7.8, \"Pirates of the Caribbean: Dead Man's Ches\": 7.3, 'Star Wars: A New Hope': 8.7, 'Shrek': 7.9, 'Godfather': 9.2, 'Shining, The': 8.4, 'Crouching Tiger, Hidden Dragon': 7.9, 'Fantastic Four': 4.3, 'Solaris': 8.1, 'Storytelling': 6.9, 'Ali': 6.8, 'Highlander': 7.2, 'Cedar Rapids': 6.3, 'Bad Santa': 7.1, 'Sphere': 6.0, 'Apocalypse Now': 8.5, 'Mask, The': 6.9, 'Get Low': 7.1, 'Blues Brothers, The': 7.9, 'Signs': 6.7, 'Living in Oblivion': 7.6, 'Fantastic Mr Fo': 7.8, 'Arctic Blue': 5.1, 'Chronicles of Narnia: The Lion, the Witch and the Wardrobe': 6.9, 'JFK': 8.0, 'Devil in a Blue Dress': 6.7, 'Star Trek II: The Wrath of Khan': 7.7, 'Body Hea': 7.4, 'Hotel Rwanda': 8.1, 'Resident Evil': 6.7, 'Megamind': 7.3, \"Dave Barry's Complete Guide to Guys\": 4.4, 'Last Station, The': 7.0, 'At First Sigh': 5.9, 'American Madness': 7.5, 'Hannah and Her Sisters': 8.0, 'Music of the Hear': 6.8, 'Scream 3': 5.5, 'Scream 2': 6.1, 'Beginners': 7.2, 'Bodies, Rest & Motion': 5.6, 'Days of Heaven': 8.0, 'Chasing Amy': 7.3, 'South Park': 8.8, 'Dark City': 7.7, 'City of Joy': 6.4, 'Escape From New York': 7.2, 'Kids': 7.0, 'Badlands': 8.1, 'As Good As It Gets': 7.7, 'L': 5.4, 'Star Trek: Nemesis': 6.4, 'To Sleep with Anger': 7.1, 'Wind Chill': 5.9, 'Raising Arizona': 7.4, 'Martha Marcy May Marlene': 6.9, 'Elizabeth: The Golden Age': 6.9, 'Revolutionary Road': 7.3, 'Scream': 7.3, 'Killing Zoe': 6.5, 'Distinguished Gentleman, The': 5.8, 'Birds, The': 7.7, 'Rear Window': 8.5, 'Aliens': 8.4, \"Jacob's Ladder\": 7.5, 'Shame': 7.3, 'Pariah': 7.2, 'Memento': 8.5, 'Highlander: Endgame': 4.6, 'Affliction': 7.0, 'Being There': 8.0, 'Hellraiser': 7.0, 'Saw': 7.7, 'Milk': 7.6, 'A Serious Man': 7.0, 'Being Human': 7.8, 'Slumdog Millionaire': 8.0, 'Heavy Metal': 6.7, 'Bachelor Party': 6.3, 'Unknown': 6.9, 'Toy Story': 8.3, 'Donnie Brasco': 7.8, 'Light Sleeper': 6.8, 'American Pie': 7.0, 'Withnail and I': 7.8, 'Lord of the Rings: Return of the King': 4.1, 'Lost Horizon': 7.8, 'Sister Ac': 6.3, 'Backdraf': 6.7, 'Mission Impossible II': 6.1, 'Heis': 7.7, 'Crazy, Stupid, Love': 7.4, 'Frankenstein': 6.0, 'Wonder Boys': 7.4, \"Ocean's Twelve\": 6.4, 'Source Code': 7.5, 'Invention of Lying, The': 6.4, 'G': 5.0, 'Fugitive, The': 7.8, 'Siege, The': 7.4, 'Iron Lady, The': 6.4, 'Indiana Jones IV': 6.2, 'Go': 7.3, 'Thirteen Days': 7.3, 'Queen of the Damned': 5.2, 'Psycho': 8.5, 'Star Trek: The Motion Picture': 6.4, 'When a Stranger Calls': 5.0, 'RKO 281': 7.1, 'Unbreakable': 7.2, 'Basquia': 6.9, '15 Minutes': 6.1, 'Halloween: The Curse of Michael Myers': 4.9, 'Mission to Mars': 5.6, 'Pleasantville': 7.5, \"Who's Your Daddy\": 4.9, 'Walking Tall': 6.2, 'Taking Lives': 6.2, 'Happy Birthday, Wanda June': 6.1, 'Custody': 8.3, 'I Love You Phillip Morris': 6.6, 'Brazil': 8.0, 'Reservoir Dogs': 8.4, 'Blade: Trinity': 5.9, 'Gothika': 5.8, 'Cherry Falls': 5.1, 'Graduate, The': 8.0, 'Burning Annie': 5.6, \"Jennifer's Body\": 5.1, 'Observe and Repor': 5.8, 'Purple Rain': 6.5, 'Battle of Algiers, The': 8.1, 'Addams Family, The': 6.8, 'Walk to Remember, A': 7.4, 'Excalibur': 7.4, 'So I Married an Axe Murderer': 6.4, 'Replacements, The': 6.5, 'Jacket, The': 7.1, \"All the President's Men\": 8.0, 'V for Vendetta': 8.2, 'Burlesque': 6.4, 'Heathers': 7.3, 'Blue Velve': 7.8, '187': 6.7, 'eXistenZ': 6.8, 'Getaway, The': 8.3, 'Stuntman, The': 7.3, 'Dog Day Afternoon': 8.0, 'Eastern Promises': 7.7, 'Pulp Fiction': 8.9, 'Rescuers Down Under, The': 6.9, '127 Hours': 7.6, 'Cinema Paradiso': 8.5, 'Bodyguard': 6.1, 'Platinum Blonde': 6.9, 'We Own the Nigh': 6.9, 'Collateral Damage': 5.5, 'A Few Good Men': 7.6, 'Damned United, The': 7.6, 'Mulholland Drive': 8.0, 'Above the Law': 5.9, 'Serenity': 8.0, \"Devil's Advocate\": 7.5, 'Fifth Element, The': 7.7, '12': 5.7, 'All About Steve': 4.8, 'Wild Wild Wes': 4.8, 'Antz': 6.6, 'Liar Liar': 6.8, 'Pirates of the Caribbean': 8.1, 'Hesher': 7.1, 'Frequency': 7.9, 'Hudsucker Proxy, The': 7.3, 'Analyze This': 6.7, 'Three Kings': 7.1, 'Detroit Rock City': 6.8, 'Rambling Rose': 6.7, 'Mystery Men': 6.0, 'Day of the Dead': 7.2, 'Black Swan': 8.0, 'Kate & Leopold': 6.4, 'Philadelphia': 8.8, 'Austin Powers - International Man of Mystery': 7.0, \"One Flew Over the Cuckoo's Nes\": 8.7, \"It's Complicated\": 6.6, 'Haunting, The': 7.6, 'Orgy of the Dead': 2.7, 'Nurse Betty': 6.3, 'Annie Hall': 8.1, '2001: A Space Odyssey': 8.3, '17 Again': 6.4, 'Strange Days': 7.2, 'Lake Placid': 5.6, 'Alien': 8.5, 'Batman': 7.6, 'After': 5.4, 'Predator': 7.8, 'Absolute Power': 6.7, 'Air Force One': 6.4, 'Youth in Revol': 6.5, 'They': 4.8, \"Malibu's Most Wanted\": 5.1, 'Five Easy Pieces': 7.5, 'Ticker': 3.5, 'Forrest Gump': 8.8, \"My Mother Dreams the Satan's Disciples in New York\": 7.2, 'Star Trek': 8.4, 'Man on the Moon': 7.4, 'Hebrew Hammer, The': 6.2, 'New York Minute': 4.8, 'Valkyrie': 7.1, 'Frozen': 7.6, 'Rambo: First Blood II: The Mission': 6.4, 'Titanic': 7.7, 'Hellraiser 3: Hell on Earth': 5.4, 'Peggy Sue Got Married': 6.3, 'Ginger Snaps': 6.8, 'Gamer': 5.8, 'Ides of March, The': 7.1, 'Colombiana': 6.4, 'Taking Sides': 7.2, 'Extrac': 6.2, 'Miracle Worker, The': 8.1, 'Bottle Rocke': 7.1, 'Next Friday': 6.1, 'Semi-Pro': 5.8, 'Power of One, The': 7.2, 'Sling Blade': 8.0, 'Pineapple Express': 7.0, 'Relic, The': 5.7, 'Catch Me If You Can': 8.0, 'Star Wars: Revenge of the Sith': 7.6, 'Kingdom, The': 8.4, 'Bound': 7.4, 'Postman, The': 6.0, 'Independence Day': 6.9, 'Tin Cup': 6.3, 'Deep Rising': 6.0, 'Edward Scissorhands': 7.9, 'Election': 7.3, 'Finding Nemo': 8.2, 'Limey, The': 7.1, 'Under Fire': 7.1, 'Anastasia': 7.1, 'Armageddon': 6.6, 'Speed': 7.2, 'Rebel Without A Cause': 7.8, 'Hall Pass': 5.9, 'Jaws 2': 5.7, 'Platoon': 8.1, 'Indiana Jones and the Raiders of the Lost Ark': 8.5, 'Zerophilia': 6.3, 'Coraline': 7.7, 'Matrix Reloaded, The': 7.2, 'Wild Things: Diamonds in the Rough': 4.5, 'Fracture': 7.2, 'Meet Joe Black': 7.1, 'Deception': 7.8, 'Hangover, The': 7.8, 'Last Boy Scout, The': 6.9, 'Drive Angry': 5.5, 'John Q': 7.0, \"Henry's Crime\": 6.0, 'Big': 7.3, 'Hot Tub Time Machine': 6.4, 'Dune': 6.6, 'Bamboozled': 6.5, 'Dead Poets Society': 8.0, 'Being John Malkovich': 7.8, 'Traffic': 7.6, 'Virtuosity': 5.5, 'Glengarry Glen Gross': 7.8, 'Analyze Tha': 5.9, 'Legend': 7.0, 'Red Plane': 5.7, 'Darkman': 6.4, 'Wild At Hear': 7.2, 'Monkeybone': 4.7, 'Ordinary People': 7.8, 'Robocop': 7.5, 'Jurassic Park: The Lost World': 6.5, 'Alien 3': 6.4, 'Crow: City of Angels, The': 4.5, 'Lord of the Rings: The Two Towers': 7.2, 'Little Athens': 5.6, 'American History X': 8.6, 'Gods and Monsters': 7.5, 'Grand Hotel': 8.5, 'Mr Blandings Builds His Dream House': 7.4, 'X': 7.7, 'Constantine': 6.9, 'Bravehear': 8.4, 'Apt Pupil': 6.7, 'Little Nicky': 5.3, 'Catwoman': 3.3, 'Fletch': 6.9, 'Mirrors': 6.2, 'Flintstones, The': 4.8, \"Miller's Crossing\": 7.9, 'Remember Me': 7.2, 'Bourne Identity, The': 7.9, 'American Gangster': 7.8, 'Ronin': 7.3, 'Man Trouble': 4.6, 'Bonnie and Clyde': 7.9, 'Scary Movie 2': 5.2, 'Jane Eyre': 7.4, \"Hitchhiker's Guide to the Galaxy, The\": 6.8, 'Transformers: The Movie': 7.3, 'Visitor, The': 7.7, 'Clueless': 6.8, 'Rush Hour': 6.9, 'Aladdin': 8.0, 'Spider-Man': 7.3, 'Silver Bulle': 6.4, 'Chaos': 6.5, 'Departed, The': 8.5, 'Avengers, The': 8.1, 'Spare Me': 6.8, 'Boondock Saints, The': 7.9, '30 Minutes or Less': 6.1, 'Kramer vs Kramer': 7.8, 'Fight Club': 8.8, 'Alien vs': 8.5, 'Mechanic, The': 6.6, 'Italian Job, The': 7.0, 'Inventing the Abbotts': 6.4, 'Rachel Getting Married': 6.7, 'Friday the 13th Part VIII: Jason Takes Manhattan': 4.5, 'Double Indemnity': 8.4, 'Godzilla': 6.5, 'Man Who Knew Too Much, The': 6.9, \"Monster's Ball\": 7.1, 'Insomnia': 7.2, 'Doors, The': 7.2, 'Dragonslayer': 6.7, 'I Am Number Four': 6.1, 'Lord of Illusions': 6.0, 'Indiana Jones and the Temple of Doom': 7.6, 'Public Enemies': 7.0, 'Elephant Man, The': 8.2, 'Saving Private Ryan': 8.6, 'Legally Blonde': 6.2, 'Collateral': 7.6, 'Nightmare on Elm Street, A': 7.5, 'Ninth Gate, The': 6.7, 'Love and Basketball': 7.2, \"Man Who Wasn't There, The\": 7.6, 'Soldier': 6.0, 'S': 6.3, 'X-Files: Fight the Future, The': 7.1, 'Sleepless in Seattle': 6.8, \"She's Out of My League\": 6.4, 'Vanilla Sky': 6.9, 'Angel Eyes': 5.6, 'Meet John Doe': 7.7, 'Crazylove': 6.3, 'Natural Born Killers': 7.3, 'Crying Game': 7.3, 'Jaws': 8.0, 'Airplane 2: The Sequel': 6.1, 'Timber Falls': 5.3, 'Insidious': 6.8, 'Cell, The': 4.3, 'Gladiator': 8.5, 'Star Trek: First Contac': 7.6, 'Stir of Echoes': 7.0, 'Witness': 7.4, 'Proposal, The': 6.7, 'Escape From L': 5.7, 'American Beauty': 8.4, 'Hellraiser: Hellseeker': 5.1, 'Wild Bunch, The': 8.0, 'Battle of Shaker Heights, The': 6.1, 'Groundhog Day': 8.1, 'Mr': 7.7, \"He's Just Not That Into You\": 6.4, 'Office Space': 7.8, 'Erik the Viking': 6.2, 'Six Degrees of Separation': 6.9, 'Lord of the Rings: Fellowship of the Ring, The': 8.8, 'Hea': 7.7, 'Cobb': 6.5, 'Kung Fu Panda': 7.6, 'Margot at the Wedding': 6.1, 'Brick': 6.4, 'Body of Evidence': 7.1, 'El Mariachi': 6.9, 'Burn After Reading': 7.0, 'Cooler, The': 7.0, 'Girl with the Dragon Tattoo, The': 7.8, 'Usual Suspects, The': 8.6, 'Grapes of Wrath, The': 8.1, 'Marley & Me': 7.1, 'Drag Me to Hell': 6.6, 'Dogma': 7.4, 'Wrestler, The': 7.9, 'Last Flight, The': 7.0, 'Henry Fool': 7.3, 'Terminator 2: Judgement Day': 8.5, 'Cowboys & Aliens': 6.0, 'Death at a Funeral': 7.4, 'Losers, The': 6.4, 'Star Wars: The Empire Strikes Back': 8.8, 'Pretty Woman': 6.9, 'Panic Room': 6.8, 'French Connection, The': 7.8, 'Quantum Projec': 6.0, 'Tristan and Isolde': 6.9, 'Bad Lieutenan': 7.1, 'Bourne Ultimatum, The': 8.1, 'Autumn in New York': 5.5, \"This Boy's Life\": 7.3, 'Pianist, The': 8.5, 'Blood Simple': 5.7, 'Serial Mom': 6.7, 'Man in the Iron Mask': 5.6, '12 Monkeys': 7.6, 'Cars 2': 6.3, 'Misery': 7.8, 'Supergirl': 6.5, 'Se7en': 8.6, 'Dark Star': 6.5, 'Ghost Rider': 5.2, 'Salton Sea, The': 7.2, 'Beavis and Butt-head Do America': 6.8, 'Hollow Man': 5.7, 'Star Wars: Attack of the Clones': 6.7, 'Grand Theft Parsons': 6.1, \"All the King's Men\": 6.2, 'Midnight Cowboy': 7.9, 'Petulia': 7.3, 'Silence of the Lambs': 8.6, 'Almost Famous': 7.9, 'Mary Poppins': 7.8, 'Men Who Stare at Goats, The': 6.2, 'Dry White Season, A': 7.0, 'Casino': 8.2, '2012': 5.8, 'Station Wes': 6.7, \"It's a Wonderful Life\": 8.6, 'Confidence': 6.7, 'Juno': 7.5, 'Last Samurai, The': 7.7, 'Napoleon Dynamite': 6.9, 'Swordfish': 6.5, 'War of the Worlds': 6.5, 'Shivers': 6.6, 'Man On Fire': 7.7, 'Breakfast Club, The': 7.9, 'Ninja Assassin': 6.4, 'Abyss, The': 7.6, \"Charlie's Angels\": 5.5, 'Fast Times at Ridgemont High': 7.2, 'Kiss of the Spider Woman': 7.4, 'Star Trek: Generations': 6.6, 'Gandhi': 8.1, 'Red Riding Hood': 5.4, 'Inglourious Basterds': 8.3, 'Wild Hogs': 5.9, 'Thunderhear': 6.8, 'Bones': 7.9, 'Pitch Black': 7.1, 'Program, The': 6.5, 'Face Off': 7.3, 'Event Horizon': 6.7, 'Nashville': 7.7, 'I am Sam': 7.6, \"My Best Friend's Wedding\": 6.3, 'Kill Bill Volume 1 & 2': 7.4, 'Lone Star': 7.6, 'Bean': 6.4, 'Lost Highway': 7.6, 'Boondock Saints 2: All Saints Day': 6.3, \"I'll Do Anything\": 5.6, '9': 7.1, 'Amelia': 8.4, \"Avventura, L' (The Adventure)\": 5.3, 'Water for Elephants': 6.9, 'U Turn': 6.8, 'Ace Ventura: Pet Detective': 6.9, 'American Graffiti': 7.5, 'Bringing Out the Dead': 6.8, 'Diner': 7.2, 'Synecdoche, New York': 7.5, 'Rushmore': 7.7, 'Sugar': 7.2, 'Chinatown': 8.2, 'Sexual Life': 5.1, 'Snow Falling On Cedars': 6.8, 'Peeping Tom': 7.8, 'Avatar': 7.9, 'What Lies Beneath': 6.6, 'How to Train Your Dragon': 8.2, 'Airplane': 7.8, 'Defiance': 7.0, 'Cider House Rules, The': 7.4, 'Tremors': 7.2, 'Jerry Maguire': 7.3, 'Private Life of Sherlock Holmes, The': 7.2, 'Sex and the City': 7.0, 'Into the Wild': 8.2, 'Blast from the Past, The': 6.6, 'Minority Repor': 7.7, 'Nightbreed': 6.5, 'Surfer King, The': 3.9, 'Evil Dead': 7.6, 'Time Machine, The': 5.9, 'Terminator Salvation': 6.6, 'Buffy the Vampire Slayer': 8.2, 'American Splendor': 7.5, 'Cincinnati Kid, The': 7.3, 'American Outlaws': 6.0, 'True Gri': 7.7, 'Barton Fink': 7.7, 'Runaway Bride': 5.5, 'Battle: Los Angeles': 5.8, 'Jay and Silent Bob Strike Back': 6.9, 'Beloved': 5.9, 'Nightmare Before Christmas, The': 8.0, 'Mr Deeds Goes to Town': 8.0, 'American President, The': 6.8, 'Debt, The': 6.9, 'Someone To Watch Over Me': 6.1, 'Final Destination 2': 6.2, 'In the Bedroom': 7.5, 'Evil Dead II: Dead by Dawn': 7.8, 'Superfights': 5.3, 'Crank': 7.0, 'Speed Racer': 6.1, 'Anonymous': 6.2, 'Chasing Sleep': 6.4, 'Sunset Blvd': 8.5, 'Dumb and Dumber': 7.3, '50-50': 5.8, 'Planet of the Apes, The': 5.7, 'Shifty': 6.5, 'Ed Wood': 7.9, 'Ghost and the Darkness, The': 6.8, 'Shawshank Redemption, The': 9.3, 'Omega Man': 6.6, 'Shampoo': 6.3, 'In the Loop': 7.5, 'Pries': 7.8, 'Thor': 7.0, 'Drop Dead Gorgeous': 6.5, 'Bourne Supremacy, The': 7.8, 'Taxi Driver': 8.3, 'Book of Eli, The': 6.9, 'Pet Sematary': 6.6, 'High Fidelity': 7.5, 'While She Was Ou': 4.8, 'Basic Instinc': 6.9, 'Big Lebowski, The': 8.2, 'You Can Count On Me': 7.7, 'Barry Lyndon': 8.1, 'Gangs of New York': 7.5, 'Ice Storm, The': 7.5, 'Long Kiss Goodnight, The': 6.7, 'Scott Pilgrim vs the World': 9.6, 'Alien Nation': 6.3, 'Major League': 7.2, 'Fear and Loathing in Las Vegas': 7.7, 'Clockwork Orange, A': 8.3, 'Feas': 4.8, 'I Still Know What You Did Last Summer': 4.6, '8MM': 6.5, 'Queen, The': 7.2, 'Arcade': 5.4, 'State and Main': 6.8, 'Four Rooms': 6.7, 'Cliffhanger': 6.4, 'Assassins': 6.3, 'Horrible Bosses': 6.9, 'Fargo': 9.0, 'White Christmas': 7.6, 'Moneyball': 7.6, 'Breakdown': 6.9, 'Warrior': 8.2, 'Mission Impossible': 7.1, 'RocknRolla': 7.3, 'Imaginarium of Doctor Parnassus, The': 6.8, 'Hellraiser: Deader': 4.6, 'Raging Bull': 8.3, 'Limitless': 7.9, 'Stepmom': 6.7, 'How to Lose Friends & Alienate People': 6.5, 'Green Mile, The': 8.5, 'Snatch': 8.3, 'House of 1000 Corpses': 6.0, 'Gremlins 2': 6.3, 'Deer Hunter, The': 8.2, 'Twilight: New Moon': 4.6, 'Strangers on a Train': 8.1, 'Insider, The': 7.9, 'Freddy vs': 5.8, 'Horse Whisperer, The': 6.6, 'Hellbound: Hellraiser II': 6.5, 'Batman 2': 7.0, 'Slither': 6.5, 'Ed TV': 6.1, 'Birthday Girl': 6.1, 'Gone in 60 Seconds': 6.5, 'Field of Dreams': 7.5, 'White Squall': 6.6, 'Up': 8.3, 'Sense and Sensibility': 7.7, 'Change-Up, The': 6.4, 'Day the Earth Stood Still, The': 5.5, '44 Inch Ches': 5.8, 'Law Abiding Citizen': 7.4, 'Believer, The': 7.2, 'Conan the Barbarian': 6.9, 'Rock, The': 4.4, 'Larry Crowne': 6.1, 'X-Men Origins: Wolverine': 6.7, 'Klute': 7.2, 'Jade': 5.1, 'Top Gun': 6.9, 'Entrapmen': 6.2, 'Cruel Intentions': 6.9, 'Kafka': 7.0, 'Hostage': 6.6, 'Shallow Grave': 7.4, 'Tropic Thunder': 7.0, 'Scarface': 8.3, 'Terminator': 8.0, 'World is not Enough, The': 6.4, 'Ghos': 5.4, 'Producer, The': 7.7, 'Tomorrow Never Dies': 6.5, 'Dawn of the Dead': 7.4, 'Big Fish': 8.0, 'Tamara Drewe': 6.2, 'Ne': 7.4, 'Hellboy': 6.8, 'Get Shorty': 6.9, 'Sneakers': 7.1, 'Bridesmaids': 6.8, '48 Hrs': 6.9, \"King's Speech, The\": 8.0, \"Ferris Bueller's Day Off\": 7.8, 'Equilibrium': 7.5, 'Verdict, The': 7.8, 'Gattaca': 7.8, 'Training Day': 7.7, 'My Girl': 6.8, 'Arthur': 7.4, 'Die Hard': 8.2, 'Interview with the Vampire': 7.6, 'Courage Under Fire': 6.6, 'Grifters, The': 7.0, 'Lord of War': 7.6, 'Break': 3.2, 'Ladykillers, The': 6.2, 'Last of the Mohicans, The': 7.8, 'Cable Guy': 6.0, 'True Lies': 7.2, 'Game 6': 5.9, 'Life of David Gale, The': 7.5, 'Wanted': 6.7, 'Sting, The': 8.3, 'Copyca': 6.6, 'Pearl Harbor': 6.1, 'Help, The': 8.1, 'Superbad': 7.6, 'Assignment, The': 5.4, 'Rocky': 8.1, 'Truman Show, The': 8.1, 'Max Payne': 5.4, 'Bad Boys': 6.8, 'Leviathan': 7.6, 'Code of Silence': 6.0, '12 and Holding': 7.6, 'Village, The': 6.5, 'Vertigo': 8.4, 'Capote': 7.4, 'Eagle Eye': 6.6, 'Thing, The': 9.0, 'Malcolm X': 7.7, 'Hackers': 6.2, 'Three Men and a Baby': 5.9, 'Mumford': 6.9, 'Fright Nigh': 7.1, \"Schindler's Lis\": 8.9, 'Godfather Part III, The': 7.6, 'Cellular': 6.5, 'Hard to Kill': 5.7, 'Adaptation': 7.7, 'Majestic, The (The Bijou)': 6.9, 'Point Break': 5.3, 'Life As A House': 7.5, 'Lock, Stock and Two Smoking Barrels': 8.2, 'Blow': 7.6, \"There's Something About Mary\": 7.1, 'I, Robo': 8.7, 'Saint, The': 7.9, 'Butterfly Effect, The': 7.7, 'Babel': 7.5, 'Piano, The': 7.6, 'Robin Hood: Prince of Thieves': 6.9, 'Searchers, The': 8.0, 'Honeydripper': 6.8, 'Tall in the Saddle': 7.1, 'Twins': 6.0, 'Date Nigh': 6.3, 'Sleepy Hollow': 7.4, 'Alien: Resurrection': 6.3, 'Perfect World, A': 7.5, 'Three Musketeers, The': 5.8, 'What About Bob?': 7.0, 'Godfather Part II': 9.0, 'Jurassic Park III': 5.9, 'Black Snake Moan': 7.0, 'Notting Hill': 7.0, 'Warm Springs': 7.7, 'Miami Vice': 7.5, 'Phone Booth': 7.1, 'Save the Last Dance': 6.2, 'Moonstruck': 7.1, 'Spartan': 6.6, 'Whiteou': 5.5, 'Kalifornia': 6.7, 'Reader, The': 7.6, 'Clash of the Titans': 5.8, 'Awakenings': 7.8, 'Amadeus': 8.3, 'Antitrus': 6.1, 'Bad Day at Black Rock': 7.8, 'Incredibles, The': 8.0, 'Crime Spree': 6.6, 'Lost in Space': 5.1, 'Curious Case of Benjamin Button, The': 7.8, 'Army of Darkness': 7.6, 'His Girl Friday': 8.0, 'E': 6.7, 'TRON': 6.8, 'Metro': 5.5, 'Croupier': 7.2, 'Benny & Joon': 7.2, 'Land of the Dead': 6.2, 'Drive': 7.8, 'Game, The': 9.5, 'Tourist, The': 6.0, 'Broadcast News': 7.2, 'Cube': 7.3, 'Beach, The': 6.6, 'Crow Salvation, The': 5.0, 'Deep Cover': 6.9, 'American Shaolin: King of Kickboxers II': 5.8, 'Duck Soup': 8.0, 'Disturbia': 6.9, 'Boogie Nights': 7.9, 'Sugar and Spice': 8.1, 'Artist, The': 8.0, 'Do The Right Thing': 7.9, 'Little Mermaid, The': 7.6, 'Two For The Money': 6.2, 'Good Girl, The': 7.7, 'Enemy of the State': 7.3, 'Year One': 4.9, 'Pi': 7.5, 'Grudge, The': 5.9, 'Mariachi, El': 6.9, 'Other Boleyn Girl, The': 6.7, 'Mimic': 5.9, 'Buried': 7.0, 'Seventh Seal, The': 8.2, 'Starman': 7.0, 'Black Rain': 6.6}\n"
     ]
    }
   ],
   "source": [
    "print movie_d['ratings']"
   ]
  },
  {
   "cell_type": "code",
   "execution_count": null,
   "metadata": {
    "collapsed": true
   },
   "outputs": [],
   "source": []
  }
 ],
 "metadata": {
  "kernelspec": {
   "display_name": "Python 2",
   "language": "python",
   "name": "python2"
  },
  "language_info": {
   "codemirror_mode": {
    "name": "ipython",
    "version": 2
   },
   "file_extension": ".py",
   "mimetype": "text/x-python",
   "name": "python",
   "nbconvert_exporter": "python",
   "pygments_lexer": "ipython2",
   "version": "2.7.6"
  }
 },
 "nbformat": 4,
 "nbformat_minor": 1
}
