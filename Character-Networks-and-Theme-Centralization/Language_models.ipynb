{
 "cells": [
  {
   "cell_type": "code",
   "execution_count": 7,
   "metadata": {
    "collapsed": true
   },
   "outputs": [],
   "source": [
    "import json\n",
    "import json_helper as jhlp\n",
    "from nltk import word_tokenize\n",
    "from nltk.util import ngrams"
   ]
  },
  {
   "cell_type": "code",
   "execution_count": 8,
   "metadata": {
    "collapsed": false
   },
   "outputs": [],
   "source": [
    "with open('/home/vishi/imsdb/json/A Few Good Men.json') as f:\n",
    "    script_dict = json.loads(f.read())"
   ]
  },
  {
   "cell_type": "code",
   "execution_count": 16,
   "metadata": {
    "collapsed": false,
    "scrolled": true
   },
   "outputs": [],
   "source": [
    "char_list = jhlp.get_all_char_from_script(script_dict)\n",
    "bigram_distribution_per_char = {} \n",
    "for char in char_list:\n",
    "    char_dialogues = jhlp.get_all_dialogues_for_char_for_script(script_dict, char)\n",
    "    tokens = word_tokenize(char_dialogues)\n",
    "    bigrams = list(ngrams(tokens, 2))\n",
    "    bigram_counts = [(bg, bigrams.count(bg)) for bg in set(bigrams)]\n",
    "    bigram_counts = sorted(bigram_counts, key=lambda k : k[1], reverse=True)\n",
    "    bigram_distribution_per_char[char] = bigram_counts"
   ]
  },
  {
   "cell_type": "code",
   "execution_count": 18,
   "metadata": {
    "collapsed": false,
    "scrolled": true
   },
   "outputs": [
    {
     "name": "stdout",
     "output_type": "stream",
     "text": [
      "STONE [(u'he', u'was'), (u'And', u'he'), (u'pronounced', u'dead'), (u'zero-zero-thirty-seven', u'.'), (u'was', u'pronounced'), (u'dead', u'at'), (u'...', u'And'), (u'at', u'zero-zero-thirty-seven')]\n",
      "SAM [(u'.', u'I'), (u'Boob', u'.'), (u'The', u'baby'), (u'my', u'witness'), (u'have', u'stuffed'), (u'Nancy', u'gets'), (u',', u'you'), (u'Mr.', u'Boob'), (u'understand', u'that'), (u'spoke', u'.')]\n",
      "HOWARD [(u\"'ll\", u'just'), (u'Weinberg', u'?'), (u'ferry', u'and'), (u'just', u'hop'), (u'and', u'be'), (u'over', u'there'), (u'Lieutenants', u'Kaffee'), (u'Kaffee', u'and'), (u'there', u'in'), (u'(', u'shouting')]\n",
      "KAFFEE [(u'.', u'('), (u'(', u'continuing'), (u'.', u'I'), (u'continuing', u')'), (u'gon', u'na'), (u',', u'I'), (u'I', u\"'m\"), (u'it', u'.'), (u'do', u\"n't\"), (u'(', u'beat')]\n",
      "WEST [(u'.', u'Well'), (u'of', u'the'), (u'this', u'woman'), (u'breath', u')'), (u'we', u\"'re\"), (u'And', u'before'), (u'.', u'What'), (u'thing', u'could'), (u'she', u'handling'), (u'years', u'?')]\n",
      "SERGEANT AT ARMS [(u'All', u'rise'), (u'rise', u'.'), (u')', u'Dismissed'), (u'Ten-hut', u'.'), (u'.', u'All'), (u'.', u'Ten'), (u'Dismissed', u'.'), (u'hut', u'.'), (u'.', u'('), (u'.', u'Ten-hut')]\n",
      "JO [(u'I', u\"'m\"), (u'.', u'I'), (u',', u'I'), (u'assigned', u'to'), (u'of', u'the'), (u'.', u'('), (u'myself', u'who'), (u'you', u','), (u'that', u'it'), (u'Captain', u',')]\n",
      "DOWNEY [(u'Willy', u'.'), (u'(', u'quietly'), (u'us', u','), (u'You', u\"'re\"), (u',', u'Willy'), (u'Is', u'this'), (u\"'s\", u'us'), (u'D.C.', u'?'), (u'lucky', u'it'), (u'it', u\"'s\")]\n",
      "MARKINSON [(u'your', u'son'), (u'the', u'truth'), (u'.', u'I'), (u'I', u'knew'), (u'is', u'dead'), (u'I', u'was'), (u',', u'which'), (u'is', u'this'), (u'bring', u'the'), (u'to', u'bring')]\n",
      "JESSEP [(u'I', u\"'m\"), (u'.', u'Maybe'), (u'.', u'('), (u'.', u'I'), (u'gon', u'na'), (u'the', u'President'), (u'as', u'officers'), (u'(', u'continuing'), (u'we', u'as'), (u'a', u'responsibility')]\n",
      "DAWSON [(u'W.', u'Dawson'), (u'Platoon', u','), (u'Why', u'?'), (u'.', u'Why'), (u'Security', u'Company'), (u'Harold', u'W.'), (u'Sir', u','), (u'Second', u'Platoon'), (u',', u'Second'), (u'Delta', u'.')]\n",
      "WHITAKER [(u'the', u'baby'), (u'baby', u'?'), (u\"'s\", u'the'), (u',', u'how'), (u'.', u'Sam'), (u'Sam', u','), (u\"'Morning\", u'.'), (u'how', u\"'s\")]\n",
      "RANDOLPH [(u'.', u'('), (u'(', u'continuing'), (u'the', u'defendants'), (u')', u'On'), (u'charge', u'of'), (u'On', u'the'), (u',', u'the'), (u'find', u'the'), (u'continuing', u')'), (u'reading', u')')]\n",
      "ROSS [(u'mad', u'?'), (u'you', u'mad'), (u'members', u'of'), (u'tell', u'the'), (u'make', u'you'), (u'.', u'The'), (u',', u'were'), (u'you', u'present'), (u'of', u'August'), (u'Would', u'you')]\n"
     ]
    }
   ],
   "source": [
    "#get the top bigrams for each character\n",
    "for char in char_list:\n",
    "    print char, [bg for bg,_ in bigram_distribution_per_char[char]][:10]"
   ]
  },
  {
   "cell_type": "code",
   "execution_count": 21,
   "metadata": {
    "collapsed": false
   },
   "outputs": [],
   "source": [
    "#get overall bigram distributions for all dialogues\n",
    "all_dialogues = jhlp.get_all_dialogues_for_script(script_dict)\n",
    "bigrams_dia = list(ngrams(word_tokenize(all_dialogues), 2))\n",
    "bigram_counts_dia = [(bg, bigrams_dia.count(bg)) for bg in set(bigrams_dia)]\n",
    "bigram_counts_dia = sorted(bigram_counts_dia, key=lambda k : k[1], reverse=True)"
   ]
  },
  {
   "cell_type": "code",
   "execution_count": 23,
   "metadata": {
    "collapsed": false,
    "scrolled": true
   },
   "outputs": [
    {
     "name": "stdout",
     "output_type": "stream",
     "text": [
      "[((u'.', u'('), 35), ((u'.', u'I'), 24), ((u'(', u'continuing'), 24), ((u'continuing', u')'), 20), ((u'I', u\"'m\"), 19), ((u',', u'I'), 16), ((u'gon', u'na'), 13), ((u'?', u'('), 12), ((u'it', u'.'), 8), ((u'of', u'the'), 8), ((u'on', u'the'), 8), ((u'do', u\"n't\"), 7), ((u'(', u'to'), 7), ((u',', u'the'), 7), ((u'.', u'The'), 6), ((u')', u'I'), 6), ((u'to', u'the'), 6), ((u'(', u'beat'), 6), ((u',', u'do'), 6), ((u'beat', u')'), 6)]\n"
     ]
    }
   ],
   "source": [
    "print bigram_counts_dia[:20]\n",
    "#need to remove punctuations before obtaining bigrams?"
   ]
  },
  {
   "cell_type": "code",
   "execution_count": 24,
   "metadata": {
    "collapsed": true
   },
   "outputs": [],
   "source": [
    "#get overall bigram distributions for all scene descriptions\n",
    "all_descs = jhlp.get_description_for_script(script_dict)\n",
    "bigrams_desc = list(ngrams(word_tokenize(all_descs), 2))\n",
    "bigram_counts_desc = [(bg, bigrams_desc.count(bg)) for bg in set(bigrams_desc)]\n",
    "bigram_counts_desc = sorted(bigram_counts_desc, key=lambda k : k[1], reverse=True)"
   ]
  },
  {
   "cell_type": "code",
   "execution_count": 26,
   "metadata": {
    "collapsed": false,
    "scrolled": true
   },
   "outputs": [
    {
     "name": "stdout",
     "output_type": "stream",
     "text": [
      "[((u'.', u'KAFFEE'), 46), ((u'.', u'He'), 37), ((u',', u'and'), 32), ((u'.', u'The'), 29), ((u'in', u'the'), 23), ((u'on', u'the'), 23), ((u'of', u'the'), 21), ((u'to', u'the'), 20), ((u'.', u'A'), 19), ((u'at', u'the'), 17), ((u'.', u'JO'), 16), ((u'the', u'door'), 15), ((u'DAWSON', u'and'), 15), ((u',', u'a'), 15), ((u'and', u'KAFFEE'), 14), ((u'and', u'DOWNEY'), 14), ((u'KAFFEE', u\"'s\"), 14), ((u'and', u'SAM'), 13), ((u'.', u'It'), 12), ((u'.', u'We'), 12)]\n"
     ]
    }
   ],
   "source": [
    "print bigram_counts_desc[:20]\n",
    "#need to remove bigrams with character names?\n",
    "#they will not help as a feature for a movie"
   ]
  },
  {
   "cell_type": "code",
   "execution_count": null,
   "metadata": {
    "collapsed": true
   },
   "outputs": [],
   "source": []
  }
 ],
 "metadata": {
  "kernelspec": {
   "display_name": "Python 2",
   "language": "python",
   "name": "python2"
  },
  "language_info": {
   "codemirror_mode": {
    "name": "ipython",
    "version": 2
   },
   "file_extension": ".py",
   "mimetype": "text/x-python",
   "name": "python",
   "nbconvert_exporter": "python",
   "pygments_lexer": "ipython2",
   "version": "2.7.6"
  }
 },
 "nbformat": 4,
 "nbformat_minor": 1
}
