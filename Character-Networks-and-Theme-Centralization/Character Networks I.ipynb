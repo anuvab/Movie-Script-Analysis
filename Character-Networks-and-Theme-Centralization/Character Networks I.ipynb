{
 "cells": [
  {
   "cell_type": "code",
   "execution_count": null,
   "metadata": {
    "collapsed": true
   },
   "outputs": [],
   "source": [
    "import json\n",
    "import json_helper as jhlp\n",
    "import os\n",
    "import networkx as nx\n",
    "import matplotlib.pyplot as plt\n",
    "%matplotlib inline\n",
    "import numpy as np\n",
    "from sklearn.cluster import KMeans\n",
    "plt.style.use('ggplot')"
   ]
  },
  {
   "cell_type": "code",
   "execution_count": null,
   "metadata": {
    "collapsed": false
   },
   "outputs": [],
   "source": [
    "json_path = \"path to json folder\"\n",
    "movie_jsons = [json_path+'/' + json_name for json_name in os.listdir(json_path)]\n",
    "script_dicts = []\n",
    "for movie_json in movie_jsons:\n",
    "    with open(movie_json) as f:\n",
    "        script_dicts.append(json.loads(f.read()))"
   ]
  },
  {
   "cell_type": "code",
   "execution_count": null,
   "metadata": {
    "collapsed": true
   },
   "outputs": [],
   "source": [
    "#find all characters present in a scene from scene descriptions and dialogues\n",
    "def get_chars_for_scene(scene, all_char_list):\n",
    "    chars_from_desc = set()\n",
    "    chars_from_dialogue = set()\n",
    "    desc = jhlp.get_description_for_scene(scene)\n",
    "    for c in all_char_list:\n",
    "        if c in desc:\n",
    "            chars_from_desc.add(c)\n",
    "    for d in scene['char_dialogues']:\n",
    "        if d[1] in all_char_list:\n",
    "            chars_from_dialogue.add(d[1])\n",
    "    return list(chars_from_desc), list(chars_from_dialogue)"
   ]
  },
  {
   "cell_type": "code",
   "execution_count": null,
   "metadata": {
    "collapsed": true
   },
   "outputs": [],
   "source": [
    "#graph formation method I\n",
    "#a scene interaction is registered if two characters co-occur\n",
    "#a better approach is used later\n",
    "#this gives great results too\n",
    "\n",
    "graphs_I = []\n",
    "for script_dict in script_dicts:\n",
    "    all_char_list = jhlp.get_all_char_from_script(script_dict)\n",
    "    graph = nx.Graph()\n",
    "    for key in script_dict:\n",
    "        scene = script_dict[key]\n",
    "        a, b = get_chars_for_scene(scene, all_char_list)\n",
    "        for char1 in b:\n",
    "            for char2 in b:\n",
    "                if char1 == char2:\n",
    "                    continue\n",
    "                if not graph.has_edge(char1, char2):\n",
    "                    graph.add_edge(char1, char2, weight=1)\n",
    "                else:\n",
    "                    graph[char1][char2]['weight'] += 1\n",
    "    graphs_I.append(graph)"
   ]
  },
  {
   "cell_type": "code",
   "execution_count": null,
   "metadata": {
    "collapsed": false
   },
   "outputs": [],
   "source": [
    "def get_graph_metrics(graph):\n",
    "    try:\n",
    "        num_chars = len(graph.nodes()) #1\n",
    "        num_relations = len(graph.edges()) #2\n",
    "        avg_clustering = nx.average_clustering(graph) #3\n",
    "        per_node_centrality = sorted(np.array(nx.degree_centrality(graph).values()), reverse=True)\n",
    "        centralization = sum(per_node_centrality[0] - per_node_centrality)/((num_chars-1)*(num_chars-2)) #4\n",
    "        sing_char_centrality = (per_node_centrality[0] - per_node_centrality[1])/sum(per_node_centrality) #5\n",
    "        edge_weights = sorted([float(graph[u][v]['weight'])/5 for u,v in graph.edges()], reverse=True)\n",
    "        single_relationship_centrality = (edge_weights[0]-edge_weights[1])/sum(edge_weights) #6\n",
    "        degrees = graph.degree(graph.nodes(), weight='weight').values()\n",
    "        degrees = np.array(degrees)/sum(edge_weights)\n",
    "        k = min(10, num_chars)\n",
    "        top_char_degree_var = np.var(sorted(degrees, reverse=True)[:k]) #7\n",
    "        k = min(10, len(edge_weights))\n",
    "        top_relationship_var = np.var(edge_weights[:k]) #8\n",
    "    except Exception as e:\n",
    "        return None\n",
    "    metrics = np.array([num_chars, num_relations, avg_clustering, centralization, sing_char_centrality, \n",
    "                       single_relationship_centrality, top_char_degree_var, top_relationship_var])\n",
    "    if float('inf') in metrics:\n",
    "        return None\n",
    "    else:\n",
    "        return metrics"
   ]
  },
  {
   "cell_type": "code",
   "execution_count": null,
   "metadata": {
    "collapsed": false,
    "scrolled": false
   },
   "outputs": [],
   "source": [
    "graph_metrics_I = np.array([get_graph_metrics(graph) for graph in graphs_I])"
   ]
  },
  {
   "cell_type": "code",
   "execution_count": null,
   "metadata": {
    "collapsed": false
   },
   "outputs": [],
   "source": [
    "print graph_metrics_I.shape\n",
    "import cPickle as pickle\n",
    "with open('char_net_features_using_json_I.pkl', 'w') as fp:\n",
    "    pickle.dump(graph_metrics_I, fp)"
   ]
  },
  {
   "cell_type": "code",
   "execution_count": null,
   "metadata": {
    "collapsed": false
   },
   "outputs": [],
   "source": [
    "from sklearn.manifold import TSNE\n",
    "tsne_model = TSNE(n_components=2, random_state=0)\n",
    "tsne_op = tsne_model.fit_transform(graph_metrics_I)\n",
    "plt.figure(figsize=(10,10))\n",
    "plt.scatter(tsne_op[:,0], tsne_op[:,1], alpha=0.5)\n",
    "plt.show()"
   ]
  },
  {
   "cell_type": "code",
   "execution_count": null,
   "metadata": {
    "collapsed": false
   },
   "outputs": [],
   "source": [
    "#clustering in tsne reduced dimensions\n",
    "kmeans = KMeans(n_clusters=8, random_state=0)\n",
    "tsne_clusters = kmeans.fit_predict(tsne_op)\n",
    "c = ['r', 'g', 'b', 'y', 'k', 'c', 'm', 'w']\n",
    "colors = [c[t] for t in tsne_clusters]\n",
    "plt.figure(figsize=(10,10))\n",
    "plt.scatter(tsne_op[:,0], tsne_op[:,1], c=colors, alpha=0.5)\n",
    "plt.show()"
   ]
  },
  {
   "cell_type": "code",
   "execution_count": null,
   "metadata": {
    "collapsed": false,
    "scrolled": true
   },
   "outputs": [],
   "source": [
    "#find the movies present in the red cluster \n",
    "#validate this manually\n",
    "#would you expect these movies to fall in the same cluster\n",
    "red_movies = []\n",
    "for i,t in enumerate(tsne_clusters):\n",
    "    if t == 0:\n",
    "        red_movies.append(movie_jsons[i])\n",
    "for r in red_movies:\n",
    "    print r"
   ]
  },
  {
   "cell_type": "code",
   "execution_count": null,
   "metadata": {
    "collapsed": false
   },
   "outputs": [],
   "source": [
    "#clustering in actual dimensions\n",
    "#compare this with clustering in the tsne-reduced dimensions\n",
    "#the clusters are nearly the same\n",
    "\n",
    "kmeans = KMeans(n_clusters=8, random_state=0)\n",
    "actual_clusters = kmeans.fit_predict(graph_metrics_I)\n",
    "tsne_model = TSNE(n_components=2, random_state=0)\n",
    "tsne_op = tsne_model.fit_transform(graph_metrics_I)\n",
    "\n",
    "c = ['r', 'g', 'b', 'y', 'k', 'c', 'm', 'w']\n",
    "colors = [c[t] for t in actual_clusters]\n",
    "plt.figure(figsize=(15,15))\n",
    "plt.scatter(tsne_op[:,0], tsne_op[:,1], c=colors, alpha=0.5)\n",
    "plt.show()"
   ]
  }
 ],
 "metadata": {
  "kernelspec": {
   "display_name": "Python 2",
   "language": "python",
   "name": "python2"
  },
  "language_info": {
   "codemirror_mode": {
    "name": "ipython",
    "version": 2
   },
   "file_extension": ".py",
   "mimetype": "text/x-python",
   "name": "python",
   "nbconvert_exporter": "python",
   "pygments_lexer": "ipython2",
   "version": "2.7.6"
  }
 },
 "nbformat": 4,
 "nbformat_minor": 1
}
