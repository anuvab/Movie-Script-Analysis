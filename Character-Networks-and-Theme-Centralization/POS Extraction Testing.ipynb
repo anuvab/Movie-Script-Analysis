{
 "cells": [
  {
   "cell_type": "code",
   "execution_count": 1,
   "metadata": {
    "collapsed": true
   },
   "outputs": [],
   "source": [
    "import json\n",
    "import json_helper as jhlp\n",
    "from nltk.tag import StanfordPOSTagger\n",
    "from nltk import word_tokenize\n",
    "\n",
    "st_pos_tagger = StanfordPOSTagger(\\\n",
    "   '/home/vishi/stanford-postagger-full-2015-12-09/models/english-bidirectional-distsim.tagger',\\\n",
    "      '/home/vishi/stanford-postagger-full-2015-12-09/stanford-postagger.jar')"
   ]
  },
  {
   "cell_type": "code",
   "execution_count": 2,
   "metadata": {
    "collapsed": false
   },
   "outputs": [],
   "source": [
    "with open('/home/vishi/imsdb/json/A Few Good Men.json') as f:\n",
    "    script_dict = json.loads(f.read())"
   ]
  },
  {
   "cell_type": "code",
   "execution_count": 27,
   "metadata": {
    "collapsed": false
   },
   "outputs": [],
   "source": [
    "#POS distribution per character\n",
    "\n",
    "char_list = jhlp.get_all_char_from_script(script_dict)\n",
    "pos_distribution_per_char = {} #{char : [(pos, count)]}\n",
    "for char in char_list:\n",
    "    char_dialogues = jhlp.get_all_dialogues_for_char_for_script(script_dict, char)\n",
    "    pos_tags = st_pos_tagger.tag(word_tokenize(char_dialogues))\n",
    "    all_tags = [tag for _,tag in pos_tags]\n",
    "    pos_counts = [(tag, all_tags.count(tag)) for tag in set(all_tags)]\n",
    "    pos_counts = sorted(pos_counts, key=lambda k : k[1], reverse=True)\n",
    "    pos_distribution_per_char[char] = pos_counts"
   ]
  },
  {
   "cell_type": "code",
   "execution_count": 29,
   "metadata": {
    "collapsed": false
   },
   "outputs": [
    {
     "name": "stdout",
     "output_type": "stream",
     "text": [
      "STONE [u'NN', u'VBD', u'CC', u'VBN', u'.', u'PRP', u'JJ', u'IN', u':']\n",
      "SAM [u'NN', u'.', u'PRP', u'VB', u'DT', u'VBD', u'PRP$', u'NNP', u'MD', u'VBN']\n",
      "HOWARD [u'NN', u'IN', u'NNP', u'VB', u'CC', u'DT', u'.', u'MD', u'CD', u'EX']\n",
      "KAFFEE [u'NN', u'.', u'PRP', u'NNP', u'IN', u'VB', u'DT', u',', u'VBP', u'RB']\n",
      "WEST [u'NN', u'DT', u'.', u'IN', u'NNP', u',', u'VB', u'VBG', u'VBZ', u'PRP']\n",
      "SERGEANT AT ARMS [u'NN', u'.', u'DT', u'NNP', u'VBG', u'CD']\n",
      "JO [u'NNP', u'PRP', u'.', u'NN', u'IN', u'DT', u'VB', u'VBP', u'VBD', u',']\n",
      "DOWNEY [u'NNP', u'.', u'PRP', u',', u'VBP', u'VBZ', u'VBG', u'RB', u'NN', u'JJ']\n",
      "MARKINSON [u'NN', u'PRP', u'NNP', u'IN', u'DT', u'.', u'RB', u'TO', u'VB', u'PRP$']\n",
      "JESSEP [u'NN', u'.', u'PRP', u'NNP', u'IN', u'DT', u'RB', u'VBP', u'VBG', u'VB']\n",
      "DAWSON [u'NNP', u',', u'.', u'NN', u'WRB', u'IN', u'CD']\n",
      "WHITAKER [u'NN', u'.', u'WRB', u',', u'VBZ', u'DT', u'NNP']\n",
      "RANDOLPH [u'NN', u'NNP', u'DT', u'IN', u'.', u'VBG', u'NNS', u'VB', u'VBP', u',']\n",
      "ROSS [u'NN', u'DT', u'.', u'JJ', u'NNP', u'IN', u'VBD', u'PRP', u',', u'VB']\n"
     ]
    }
   ],
   "source": [
    "#get the top POS for each character\n",
    "for char in char_list:\n",
    "    print char, [tag for tag,_ in pos_distribution_per_char[char]][:10]"
   ]
  },
  {
   "cell_type": "code",
   "execution_count": 9,
   "metadata": {
    "collapsed": false,
    "scrolled": true
   },
   "outputs": [],
   "source": [
    "#get overall POS distributions for all dialogues\n",
    "all_dialogues = jhlp.get_all_dialogues_for_script(script_dict)\n",
    "pos_tags_dialogues = st_pos_tagger.tag(word_tokenize(all_dialogues))\n",
    "all_tags_dia = [tag for _,tag in pos_tags_dialogues]\n",
    "pos_counts_dia = [(tag, all_tags_dia.count(tag)) for tag in set(all_tags_dia)]\n",
    "pos_counts_dia = sorted(pos_counts_dia, key=lambda k : k[1], reverse=True)"
   ]
  },
  {
   "cell_type": "code",
   "execution_count": 10,
   "metadata": {
    "collapsed": false
   },
   "outputs": [
    {
     "name": "stdout",
     "output_type": "stream",
     "text": [
      "[(u'NN', 313), (u'NNP', 256), (u'.', 245), (u'PRP', 217), (u'DT', 185), (u'IN', 183), (u'VB', 152), (u',', 119), (u'VBP', 96), (u'RB', 90), (u'JJ', 88), (u'TO', 78), (u'VBG', 70), (u'VBD', 69), (u'VBZ', 64), (u'CD', 61), (u'NNS', 59), (u'PRP$', 38), (u'CC', 38), (u'MD', 33), (u':', 32), (u'VBN', 29), (u'WP', 20), (u'WRB', 19), (u'POS', 12), (u'RP', 12), (u'WDT', 7), (u'FW', 6), (u\"''\", 5), (u'NNPS', 5), (u'UH', 5), (u'EX', 4), (u'``', 3), (u'RBR', 2), (u'JJS', 2), (u'JJR', 2), (u'PDT', 1)]\n"
     ]
    }
   ],
   "source": [
    "print pos_counts_dia"
   ]
  },
  {
   "cell_type": "code",
   "execution_count": 11,
   "metadata": {
    "collapsed": true
   },
   "outputs": [],
   "source": [
    "#POS tagging for scene descriptions\n",
    "all_descs = jhlp.get_description_for_script(script_dict)\n",
    "pos_tags_desc = st_pos_tagger.tag(word_tokenize(all_descs))\n",
    "all_tags_desc = [tag for _,tag in pos_tags_desc]\n",
    "pos_counts_desc = [(tag, all_tags_desc.count(tag)) for tag in set(all_tags_desc)]\n",
    "pos_counts_desc = sorted(pos_counts_desc, key=lambda k : k[1], reverse=True)"
   ]
  },
  {
   "cell_type": "code",
   "execution_count": 14,
   "metadata": {
    "collapsed": false,
    "scrolled": true
   },
   "outputs": [
    {
     "name": "stdout",
     "output_type": "stream",
     "text": [
      "[(u'NN', 738), (u'DT', 520), (u'IN', 511), (u'NNP', 423), (u'.', 398), (u'VBZ', 334), (u'PRP', 252), (u',', 219), (u'CC', 211), (u'NNS', 181), (u'JJ', 178), (u'RB', 171), (u'VBG', 156), (u'VBP', 133), (u'TO', 97), (u'VB', 97), (u'PRP$', 86), (u'VBN', 65), (u'RP', 64), (u':', 56), (u'POS', 53), (u'CD', 53), (u'VBD', 44), (u'MD', 26), (u'WP', 19), (u'WRB', 15), (u'FW', 9), (u'WDT', 6), (u'EX', 6), (u'JJS', 6), (u'PDT', 4), (u'JJR', 4), (u'UH', 4), (u\"''\", 3), (u'NNPS', 3), (u'``', 1), (u'#', 1), (u'RBR', 1)]\n"
     ]
    }
   ],
   "source": [
    "print pos_counts_desc"
   ]
  }
 ],
 "metadata": {
  "kernelspec": {
   "display_name": "Python 2",
   "language": "python",
   "name": "python2"
  },
  "language_info": {
   "codemirror_mode": {
    "name": "ipython",
    "version": 2
   },
   "file_extension": ".py",
   "mimetype": "text/x-python",
   "name": "python",
   "nbconvert_exporter": "python",
   "pygments_lexer": "ipython2",
   "version": "2.7.6"
  }
 },
 "nbformat": 4,
 "nbformat_minor": 1
}
